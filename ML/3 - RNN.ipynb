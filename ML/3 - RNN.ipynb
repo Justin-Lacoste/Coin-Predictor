{
 "cells": [
  {
   "cell_type": "code",
   "execution_count": 2,
   "metadata": {},
   "outputs": [],
   "source": [
    "import numpy as np\n",
    "import csv\n",
    "import pandas as pd\n",
    "from keras.models import Sequential\n",
    "from keras.layers import Dense\n",
    "from sklearn.utils import shuffle\n",
    "from sklearn.model_selection import train_test_split\n",
    "import ast\n",
    "import tensorflow as tf\n",
    "from keras.layers import LSTM"
   ]
  },
  {
   "cell_type": "code",
   "execution_count": 3,
   "metadata": {},
   "outputs": [],
   "source": [
    "#defining labels\n",
    "\n",
    "label_values = [0, 0.2] #<100% and >100% "
   ]
  },
  {
   "cell_type": "code",
   "execution_count": 4,
   "metadata": {},
   "outputs": [
    {
     "name": "stderr",
     "output_type": "stream",
     "text": [
      "C:\\Users\\justi\\AppData\\Roaming\\Python\\Python37\\site-packages\\numpy\\core\\_asarray.py:83: VisibleDeprecationWarning: Creating an ndarray from ragged nested sequences (which is a list-or-tuple of lists-or-tuples-or ndarrays with different lengths or shapes) is deprecated. If you meant to do this, you must specify 'dtype=object' when creating the ndarray\n",
      "  return array(a, dtype, copy=False, order=order)\n"
     ]
    }
   ],
   "source": [
    "FEATURES = [\"time\", \"price\", \"volume_from\", \"volume_to\", \"comments\", \"points\", \"followers\", \"fb_likes\", \"twitter_followers\", \"twitter_statuses\", \"reddit_subscribers\", \"reddit_active_users\", \"reddit_posts_per_day\", \"reddit_comments_per_day\", \"transaction_count\", \"large_transaction_count\", \"average_transaction_value\", \"unique_addresses_all_time\", \"current_supply\"] #increase\n",
    "\n",
    "'''\n",
    "list = []\n",
    "labels = []\n",
    "for index, row in csv_data.iterrows():\n",
    "    if (row[\"average\"] != 0 and row[\"increase\"] != \"undefined\"):\n",
    "        tmp_list = []\n",
    "        for i in range(0, len(FEATURES)):\n",
    "            tmp_list.append(float(row[FEATURES[i]]))\n",
    "        if (float(row[\"increase\"]) > 100):\n",
    "            labels.append(1)\n",
    "        else:\n",
    "            labels.append(0)\n",
    "        list.append(tmp_list)\n",
    "'''\n",
    "f_x = open('X_filtered_not_regularized_data_2-1_week_v1.txt')\n",
    "f_y = open('Y_filtered_not_regularized_data_2-1_week_v1.txt')\n",
    "data_x = ast.literal_eval(f_x.read())\n",
    "data_y = ast.literal_eval(f_y.read())\n",
    "\n",
    "x = np.asarray(data_x)\n",
    "y = np.asarray(data_y)\n",
    "x, y = shuffle(x, y)"
   ]
  },
  {
   "cell_type": "code",
   "execution_count": 66,
   "metadata": {},
   "outputs": [
    {
     "name": "stdout",
     "output_type": "stream",
     "text": [
      "(20, 19)\n",
      "(20, 19)\n",
      "(20, 19)\n",
      "(20, 19)\n",
      "(20, 19)\n",
      "(20, 19)\n",
      "(20, 19)\n",
      "(20, 19)\n",
      "(20, 19)\n",
      "(20, 19)\n"
     ]
    },
    {
     "ename": "ValueError",
     "evalue": "cannot reshape array of size 29973 into shape (29973,20,19)",
     "output_type": "error",
     "traceback": [
      "\u001b[1;31m---------------------------------------------------------------------------\u001b[0m",
      "\u001b[1;31mValueError\u001b[0m                                Traceback (most recent call last)",
      "\u001b[1;32m<ipython-input-66-32385f911d52>\u001b[0m in \u001b[0;36m<module>\u001b[1;34m\u001b[0m\n\u001b[0;32m     16\u001b[0m \u001b[1;33m\u001b[0m\u001b[0m\n\u001b[0;32m     17\u001b[0m     \u001b[0mfull_data_x\u001b[0m\u001b[1;33m.\u001b[0m\u001b[0mappend\u001b[0m\u001b[1;33m(\u001b[0m\u001b[0mtmp_weeks_data\u001b[0m\u001b[1;33m)\u001b[0m\u001b[1;33m\u001b[0m\u001b[1;33m\u001b[0m\u001b[0m\n\u001b[1;32m---> 18\u001b[1;33m \u001b[0mprint\u001b[0m\u001b[1;33m(\u001b[0m\u001b[0mnp\u001b[0m\u001b[1;33m.\u001b[0m\u001b[0mshape\u001b[0m\u001b[1;33m(\u001b[0m\u001b[0mnp\u001b[0m\u001b[1;33m.\u001b[0m\u001b[0masarray\u001b[0m\u001b[1;33m(\u001b[0m\u001b[0mfull_data_x\u001b[0m\u001b[1;33m)\u001b[0m\u001b[1;33m.\u001b[0m\u001b[0mreshape\u001b[0m\u001b[1;33m(\u001b[0m\u001b[1;33m(\u001b[0m\u001b[1;36m29973\u001b[0m\u001b[1;33m,\u001b[0m \u001b[1;36m20\u001b[0m\u001b[1;33m,\u001b[0m \u001b[1;36m19\u001b[0m\u001b[1;33m)\u001b[0m\u001b[1;33m)\u001b[0m\u001b[1;33m)\u001b[0m\u001b[1;33m)\u001b[0m\u001b[1;33m\u001b[0m\u001b[1;33m\u001b[0m\u001b[0m\n\u001b[0m",
      "\u001b[1;31mValueError\u001b[0m: cannot reshape array of size 29973 into shape (29973,20,19)"
     ]
    }
   ],
   "source": [
    "full_data_x = []\n",
    "full_data_y = []\n",
    "for i in range(0, len(data_y)):\n",
    "    full_data_y.append(data_y[i])\n",
    "\n",
    "for i in range(0, len(data_x)):\n",
    "    tmp_weeks_data = []\n",
    "\n",
    "    for j in range(0, len(data_x[i])):\n",
    "        tmp_day_data = []\n",
    "        for k in range(0, len(data_x[i][j])):\n",
    "            tmp_day_data.append(data_x[i][j][k])\n",
    "\n",
    "        tmp_weeks_data.append(tmp_day_data)\n",
    "    if (i<10): print(np.shape(np.asarray(tmp_weeks_data)))\n",
    "\n",
    "    full_data_x.append(tmp_weeks_data)"
   ]
  },
  {
   "cell_type": "code",
   "execution_count": 100,
   "metadata": {},
   "outputs": [],
   "source": [
    "full_data_x_2 = []\n",
    "\n",
    "for i in range(0, len(data_x)):\n",
    "    tmp_weeks_data = []\n",
    "\n",
    "    for j in range(1, len(data_x[i])):\n",
    "        tmp_day_data = []\n",
    "        for k in range(0, len(data_x[i][j])):\n",
    "            if j == 1:\n",
    "                tmp_day_data.append(1)\n",
    "            if (data_x[i][j-1][k] == 0 or data_x[i][j][k] == 0):\n",
    "                if (data_x[i][j-1][k] == 0 and data_x[i][j][k] == 0):\n",
    "                    tmp_day_data.append(1)\n",
    "                elif (data_x[i][j-1][k] == 0):\n",
    "                    tmp_day_data.append(data_x[i][j][k]/1)\n",
    "                elif (data_x[i][j][k] == 0):\n",
    "                    tmp_day_data.append(1/data_x[i][j-1][k])\n",
    "            else:\n",
    "                tmp_day_data.append(data_x[i][j][k]/data_x[i][j-1][k])\n",
    "\n",
    "        tmp_weeks_data.append(tmp_day_data)\n",
    "    full_data_x_2.append(tmp_weeks_data)"
   ]
  },
  {
   "cell_type": "code",
   "execution_count": 110,
   "metadata": {},
   "outputs": [],
   "source": [
    "placeholder_data_x = data_x\n",
    "full_data_x_zeros = np.zeros((len(data_x), 20, 19))\n",
    "full_data_y_zeros = np.zeros((len(data_y)))\n",
    "\n",
    "#for i in range(0, len(data_y)):\n",
    "#    full_data_y.append(data_y[i])\n",
    "\n",
    "for i in range(0, len(placeholder_data_x)):\n",
    "    for j in range(0, len(placeholder_data_x[i])):\n",
    "        for k in range(0, len(placeholder_data_x[i][j])):\n",
    "            full_data_x_zeros[i][j][k] = placeholder_data_x[i][j][k]\n",
    "for i in range(0, len(data_y)):\n",
    "    full_data_y_zeros[i] = data_y[i]"
   ]
  },
  {
   "cell_type": "code",
   "execution_count": 82,
   "metadata": {},
   "outputs": [
    {
     "name": "stdout",
     "output_type": "stream",
     "text": [
      "(29973, 20, 19)\n",
      "(29973,)\n"
     ]
    }
   ],
   "source": [
    "#create x, y and shuffle them\n",
    "x = full_data_x_zeros\n",
    "y = full_data_y_zeros#np.asarray(data_y).astype(np.float32)\n",
    "x, y = shuffle(x, y)\n",
    "print(np.shape(x))\n",
    "print(np.shape(y))"
   ]
  },
  {
   "cell_type": "code",
   "execution_count": 83,
   "metadata": {},
   "outputs": [],
   "source": [
    "x_train, x_test, y_train, y_test = train_test_split(x, y, test_size=0.25)\n",
    "for i in range(0, len(y_train)):\n",
    "    if y_train[i] >= label_values[1]:\n",
    "        y_train[i] = 1\n",
    "    else:\n",
    "        y_train[i] = 0\n",
    "for i in range(0, len(y_test)):\n",
    "    if y_test[i] >= label_values[1]:\n",
    "        y_test[i] = 1\n",
    "    else:\n",
    "        y_test[i] = 0"
   ]
  },
  {
   "cell_type": "code",
   "execution_count": 84,
   "metadata": {},
   "outputs": [
    {
     "name": "stdout",
     "output_type": "stream",
     "text": [
      "y_train:  {0.0: 19820, 1.0: 2659}\n",
      "y_test:  {0.0: 6522, 1.0: 972}\n",
      "7494\n"
     ]
    }
   ],
   "source": [
    "unique, counts = np.unique(y_train, return_counts=True)\n",
    "unique_test, counts_test = np.unique(y_test, return_counts=True)\n",
    "\n",
    "print(\"y_train: \", dict(zip(unique,counts)))\n",
    "print(\"y_test: \", dict(zip(unique_test,counts_test)))\n",
    "print(len(y_test))"
   ]
  },
  {
   "cell_type": "code",
   "execution_count": 89,
   "metadata": {},
   "outputs": [],
   "source": [
    "model = Sequential()\n",
    "#model.add(Dense(20, input_dim=, activation='relu'))\n",
    "model.add(LSTM(128, input_shape=(20,19)))\n",
    "model.add(Dense(8, activation='relu'))\n",
    "model.add(Dense(16, activation='relu'))\n",
    "model.add(Dense(8, activation='relu'))\n",
    "model.add(Dense(1, activation='sigmoid'))"
   ]
  },
  {
   "cell_type": "code",
   "execution_count": 90,
   "metadata": {},
   "outputs": [],
   "source": [
    "model.compile(loss='binary_crossentropy', optimizer='adam', metrics=['accuracy'])"
   ]
  },
  {
   "cell_type": "code",
   "execution_count": 91,
   "metadata": {},
   "outputs": [
    {
     "name": "stdout",
     "output_type": "stream",
     "text": [
      "Epoch 1/16\n",
      "352/352 [==============================] - 7s 15ms/step - loss: nan - accuracy: 0.8737 - val_loss: nan - val_accuracy: 0.8703\n",
      "Epoch 2/16\n",
      "352/352 [==============================] - 5s 14ms/step - loss: nan - accuracy: 0.8817 - val_loss: nan - val_accuracy: 0.8703\n",
      "Epoch 3/16\n",
      "352/352 [==============================] - 5s 14ms/step - loss: nan - accuracy: 0.8817 - val_loss: nan - val_accuracy: 0.8703 - accuracy: 0\n",
      "Epoch 4/16\n",
      "352/352 [==============================] - 5s 14ms/step - loss: nan - accuracy: 0.8817 - val_loss: nan - val_accuracy: 0.8703\n",
      "Epoch 5/16\n",
      "352/352 [==============================] - 5s 14ms/step - loss: nan - accuracy: 0.8817 - val_loss: nan - val_accuracy: 0.8703\n",
      "Epoch 6/16\n",
      "352/352 [==============================] - 5s 14ms/step - loss: nan - accuracy: 0.8817 - val_loss: nan - val_accuracy: 0.8703\n",
      "Epoch 7/16\n",
      "352/352 [==============================] - 5s 14ms/step - loss: nan - accuracy: 0.8817 - val_loss: nan - val_accuracy: 0.8703\n",
      "Epoch 8/16\n",
      "352/352 [==============================] - 5s 14ms/step - loss: nan - accuracy: 0.8817 - val_loss: nan - val_accuracy: 0.8703\n",
      "Epoch 9/16\n",
      "352/352 [==============================] - 5s 14ms/step - loss: nan - accuracy: 0.8817 - val_loss: nan - val_accuracy: 0.8703\n",
      "Epoch 10/16\n",
      "352/352 [==============================] - 5s 14ms/step - loss: nan - accuracy: 0.8817 - val_loss: nan - val_accuracy: 0.8703\n",
      "Epoch 11/16\n",
      "352/352 [==============================] - 5s 14ms/step - loss: nan - accuracy: 0.8817 - val_loss: nan - val_accuracy: 0.8703\n",
      "Epoch 12/16\n",
      "352/352 [==============================] - 5s 14ms/step - loss: nan - accuracy: 0.8817 - val_loss: nan - val_accuracy: 0.8703\n",
      "Epoch 13/16\n",
      "352/352 [==============================] - 5s 14ms/step - loss: nan - accuracy: 0.8817 - val_loss: nan - val_accuracy: 0.8703\n",
      "Epoch 14/16\n",
      "352/352 [==============================] - 5s 14ms/step - loss: nan - accuracy: 0.8817 - val_loss: nan - val_accuracy: 0.8703\n",
      "Epoch 15/16\n",
      "352/352 [==============================] - 5s 14ms/step - loss: nan - accuracy: 0.8817 - val_loss: nan - val_accuracy: 0.8703\n",
      "Epoch 16/16\n",
      "352/352 [==============================] - 5s 14ms/step - loss: nan - accuracy: 0.8817 - val_loss: nan - val_accuracy: 0.8703\n"
     ]
    },
    {
     "data": {
      "text/plain": [
       "<keras.callbacks.History at 0x19a8af097b8>"
      ]
     },
     "execution_count": 91,
     "metadata": {},
     "output_type": "execute_result"
    }
   ],
   "source": [
    "model.fit(x_train, y_train, epochs=16, batch_size=64, validation_data=(x_test, y_test))"
   ]
  }
 ],
 "metadata": {
  "kernelspec": {
   "display_name": "Python 3",
   "language": "python",
   "name": "python3"
  },
  "language_info": {
   "codemirror_mode": {
    "name": "ipython",
    "version": 3
   },
   "file_extension": ".py",
   "mimetype": "text/x-python",
   "name": "python",
   "nbconvert_exporter": "python",
   "pygments_lexer": "ipython3",
   "version": "3.7.3"
  }
 },
 "nbformat": 4,
 "nbformat_minor": 2
}
